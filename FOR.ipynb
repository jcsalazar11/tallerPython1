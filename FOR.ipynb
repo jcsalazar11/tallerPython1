{
 "cells": [
  {
   "cell_type": "markdown",
   "metadata": {},
   "source": [
    "# FOR "
   ]
  },
  {
   "cell_type": "code",
   "execution_count": 4,
   "metadata": {},
   "outputs": [],
   "source": [
    "\n",
    "#Para acceder a los elementos de una lista se utiliza for \n",
    "\n",
    "#por ejemplo: se tiene la siguiente lista \n",
    "#definimos las variables que vamos a introducir en la lista \n",
    "\n",
    "Cel1=31022454\n",
    "Cel2=32023123\n",
    "Cel3=30919320\n",
    "\n",
    "Lista=[Cel1, Cel2, Cel3]\n",
    "\n",
    "    "
   ]
  },
  {
   "cell_type": "code",
   "execution_count": 5,
   "metadata": {},
   "outputs": [
    {
     "name": "stdout",
     "output_type": "stream",
     "text": [
      "31022454\n",
      "32023123\n",
      "30919320\n"
     ]
    }
   ],
   "source": [
    "# en este caso estamos ingresando directamente al elemento\n",
    "for i in Lista:\n",
    "    print(i)"
   ]
  },
  {
   "cell_type": "code",
   "execution_count": 6,
   "metadata": {},
   "outputs": [
    {
     "name": "stdout",
     "output_type": "stream",
     "text": [
      "0\n",
      "1\n",
      "2\n"
     ]
    }
   ],
   "source": [
    "# para imprimir el indice de la lista se utiliza la funcion range (0,(LEN(lista))\n",
    "\n",
    "for i in range (0,len(Lista)):\n",
    "    print(i)\n"
   ]
  },
  {
   "cell_type": "code",
   "execution_count": 9,
   "metadata": {},
   "outputs": [
    {
     "name": "stdout",
     "output_type": "stream",
     "text": [
      "30919320\n",
      "30919320\n",
      "30919320\n"
     ]
    }
   ],
   "source": [
    "#De igual forma podemos accerder a los elmentos de lista por indice\n",
    "\n",
    "for i in range (0,len(Lista)):\n",
    "    print(Lista[2])"
   ]
  },
  {
   "cell_type": "code",
   "execution_count": 17,
   "metadata": {},
   "outputs": [
    {
     "name": "stdout",
     "output_type": "stream",
     "text": [
      "a\n",
      "b\n",
      "c\n",
      "a\n",
      "n\n",
      "g\n",
      "e\n",
      "l\n",
      "a\n",
      "d\n",
      "a\n",
      "v\n",
      "i\n",
      "d\n",
      "m\n",
      "a\n",
      "r\n",
      "i\n",
      "a\n",
      "A\n",
      "B\n",
      "C\n"
     ]
    }
   ],
   "source": [
    "#para acceder a los elementos de una lista que esta dentro de otra lista se crea un ciclo \n",
    "\n",
    "L1=[['a', 'b', 'c'], [0, 1, 2, 3, 4], ['angela', 'david', 'maria',[\"A\",\"B\",\"C\"]]]\n",
    "\n",
    "#en este caso estámos accediendo a todos los elementos de la lista\n",
    "\n",
    "for i in L1:\n",
    "    for x in i:\n",
    "        if(type(x)!=int):\n",
    "            for y in x:\n",
    "                print(y)\n",
    "        \n",
    "# Para recore todos los elementos de la lista, tenemos que darle una condición que recorra los objetos que son iterables. \n",
    "#un Objeto es iterable si tiene un inicio, un final y se puede recorrer. Por ejemplo un int no es iterable porque no tiene un final \n",
    "# y tampoco tiene un inicio. \n"
   ]
  },
  {
   "cell_type": "code",
   "execution_count": 47,
   "metadata": {},
   "outputs": [
    {
     "name": "stdout",
     "output_type": "stream",
     "text": [
      "rojo manzana\n",
      "rojo pera\n",
      "rojo arándanos\n",
      "grande manzana\n",
      "grande pera\n",
      "grande arándanos\n",
      "delicioso manzana\n",
      "delicioso pera\n",
      "delicioso arándanos\n"
     ]
    }
   ],
   "source": [
    "#Nested loop\n",
    "\n",
    "adj = [\"rojo\", \"grande\", \"delicioso\"]\n",
    "frutas=[\"manzana\",\"pera\",\"arándanos\"]\n",
    "\n",
    "for x in adj:\n",
    "    for y in frutas:\n",
    "        \n",
    "        print(x,y)\n",
    "        "
   ]
  },
  {
   "cell_type": "code",
   "execution_count": 48,
   "metadata": {},
   "outputs": [],
   "source": [
    "for x in [0,1,2]:\n",
    "    pass"
   ]
  },
  {
   "cell_type": "code",
   "execution_count": null,
   "metadata": {},
   "outputs": [],
   "source": []
  }
 ],
 "metadata": {
  "kernelspec": {
   "display_name": "Python 3",
   "language": "python",
   "name": "python3"
  },
  "language_info": {
   "codemirror_mode": {
    "name": "ipython",
    "version": 3
   },
   "file_extension": ".py",
   "mimetype": "text/x-python",
   "name": "python",
   "nbconvert_exporter": "python",
   "pygments_lexer": "ipython3",
   "version": "3.7.6"
  }
 },
 "nbformat": 4,
 "nbformat_minor": 4
}
