{
 "cells": [
  {
   "cell_type": "code",
   "execution_count": 103,
   "metadata": {},
   "outputs": [],
   "source": [
    "Departamento={\"Quindio\":{\"armenia\":{\"bandeja paisa\":\"platano, arroz, carne, y frijol\",\"calentado\":\"la comida del dia anterior\",\\\n",
    "                               \"cafe\":\"bebida de la region\"},\\\n",
    "                        \"Calarca\":{\"bandeja paisa\":\"platano, arroz, carne, y frijol\",\"calentado\":\"la comida del dia anterior\",\\\n",
    "                               \"cafe\":\"bebida de la region\"},\\\n",
    "                        \"Quimbaya\":{\"bandeja paisa\":\"platano, arroz, carne, y frijol\",\"calentado\":\"la comida del dia anterior\",\\\n",
    "                               \"cafe\":\"bebida de la region\"}},\\\n",
    "              \"Cundinamarca\":{\"Bogota\":{\"ajiaco\":\"sopa de papa\",\"empanada\":\"frita con carne\",\\\n",
    "                                       \"tamal\":\"maiz relleno de carne\"},\\\n",
    "                             \"ubate\":{\"leche\":\"bebida de la vaca\", \"fritanga\":\"morzilla y papa\",\\\n",
    "                                     \"almojabana\":\"Producot panadero de queso\"},\\\n",
    "                             \"suta\":{\"leche\":\"bebida de la vaca\", \"fritanga\":\"morzilla y papa\",\\\n",
    "                                     \"almojabana\":\"Producot panadero de queso\"}},\\\n",
    "              \"Valle\":{\"Cali\":{\"chontaduro\":\"jugo\", \"tamal\":\"maiz relleno de pipipan\", \"champu\":\"bebida\"},\\\n",
    "                      \"tulua\":{\"chontaduro\":\"jugo\", \"tamal\":\"maiz relleno de pipipan\", \"champu\":\"bebida\"},\\\n",
    "                      \"buenaventura\":{\"arrechon\":\"bebida afrodisiaca\", \"arroz con coco\":\"arroz con base de coco y pescado\",\\\n",
    "                                     \"pescado del dia\":\"pescado de la pesca mañanera\"}}}\n",
    "\n",
    "\n"
   ]
  },
  {
   "cell_type": "code",
   "execution_count": 73,
   "metadata": {},
   "outputs": [
    {
     "ename": "KeyError",
     "evalue": "0",
     "output_type": "error",
     "traceback": [
      "\u001b[1;31m---------------------------------------------------------------------------\u001b[0m",
      "\u001b[1;31mKeyError\u001b[0m                                  Traceback (most recent call last)",
      "\u001b[1;32m<ipython-input-73-00c413ac6ab5>\u001b[0m in \u001b[0;36m<module>\u001b[1;34m\u001b[0m\n\u001b[0;32m      1\u001b[0m \u001b[1;32mfor\u001b[0m \u001b[0mdep\u001b[0m \u001b[1;32min\u001b[0m \u001b[0mDepartamento\u001b[0m\u001b[1;33m:\u001b[0m\u001b[1;33m\u001b[0m\u001b[1;33m\u001b[0m\u001b[0m\n\u001b[1;32m----> 2\u001b[1;33m     \u001b[1;32mfor\u001b[0m \u001b[0mx\u001b[0m \u001b[1;32min\u001b[0m \u001b[0mDepartamento\u001b[0m\u001b[1;33m[\u001b[0m\u001b[1;36m0\u001b[0m\u001b[1;33m]\u001b[0m\u001b[1;33m[\u001b[0m\u001b[1;36m1\u001b[0m\u001b[1;33m]\u001b[0m\u001b[1;33m:\u001b[0m\u001b[1;33m\u001b[0m\u001b[1;33m\u001b[0m\u001b[0m\n\u001b[0m\u001b[0;32m      3\u001b[0m         \u001b[0mprint\u001b[0m\u001b[1;33m(\u001b[0m\u001b[0mx\u001b[0m\u001b[1;33m)\u001b[0m\u001b[1;33m\u001b[0m\u001b[1;33m\u001b[0m\u001b[0m\n",
      "\u001b[1;31mKeyError\u001b[0m: 0"
     ]
    }
   ],
   "source": [
    "for dep in Departamento:\n",
    "    for x in Departamento[0][1]:\n",
    "        print(x)"
   ]
  },
  {
   "cell_type": "code",
   "execution_count": 98,
   "metadata": {},
   "outputs": [],
   "source": [
    "Departamento={\"Quindio\":{\"armenia\":{\"bandeja paisa\":\"platano, arroz, carne, y frijol\",\"calentado\":\"la comida del dia anterior\",\\\n",
    "                               \"cafe\":\"bebida de la region\"},\\\n",
    "                        \"Calarca\":{\"bandeja paisa\":\"platano, arroz, carne, y frijol\",\"calentado\":\"la comida del dia anterior\",\\\n",
    "                               \"cafe\":\"bebida de la region\"},\\\n",
    "                        \"Quimbaya\":{\"bandeja paisa\":\"platano, arroz, carne, y frijol\",\"calentado\":\"la comida del dia anterior\",\\\n",
    "                               \"cafe\":\"bebida de la region\"}}}\n",
    "\n",
    "              "
   ]
  },
  {
   "cell_type": "code",
   "execution_count": 102,
   "metadata": {},
   "outputs": [
    {
     "name": "stdout",
     "output_type": "stream",
     "text": [
      "Quindio\n",
      "Q\n",
      "u\n",
      "i\n",
      "n\n",
      "d\n",
      "i\n",
      "o\n"
     ]
    }
   ],
   "source": [
    "for dep in Departamento:\n",
    "    print(dep)\n",
    "    for x in dep:\n",
    "        print(x)\n",
    "    "
   ]
  },
  {
   "cell_type": "code",
   "execution_count": 108,
   "metadata": {},
   "outputs": [
    {
     "name": "stdout",
     "output_type": "stream",
     "text": [
      "elige el siguiente departamento A) Quindio B) Cundinamarca C) Valle: A\n",
      "elige la siguiente ciudad A) armenia B) calarca C) Quimbaya: B\n",
      "elige ABCA\n"
     ]
    }
   ],
   "source": [
    "departamento = input(\"elige el siguiente departamento A) Quindio B) Cundinamarca C) Valle: \")\n",
    "if departamento == \"A\":\n",
    "    ciudad= input(\"elige la siguiente ciudad A) armenia B) calarca C) Quimbaya: \")\n",
    "    if ciudad == \"A\":\n",
    "        comida=input(\"elige A,B,C\")\n",
    "    elif ciudad==\"B\":\n",
    "        comida=input(\"elige ABC\")"
   ]
  },
  {
   "cell_type": "code",
   "execution_count": 1,
   "metadata": {},
   "outputs": [],
   "source": [
    "Departamento={\"Quindio\":{\"armenia\":{\"bandeja paisa\":\"platano, arroz, carne, y frijol\",\"calentado\":\"la comida del dia anterior\",\\\n",
    "                               \"cafe\":\"bebida de la region\"},\\\n",
    "                        \"Calarca\":{\"bandeja paisa\":\"platano, arroz, carne, y frijol\",\"calentado\":\"la comida del dia anterior\",\\\n",
    "                               \"cafe\":\"bebida de la region\"},\\\n",
    "                        \"Quimbaya\":{\"bandeja paisa\":\"platano, arroz, carne, y frijol\",\"calentado\":\"la comida del dia anterior\",\\\n",
    "                               \"cafe\":\"bebida de la region\"}},\\\n",
    "              \"Cundinamarca\":{\"Bogota\":{\"ajiaco\":\"sopa de papa\",\"empanada\":\"frita con carne\",\\\n",
    "                                       \"tamal\":\"maiz relleno de carne\"},\\\n",
    "                             \"ubate\":{\"leche\":\"bebida de la vaca\", \"fritanga\":\"morzilla y papa\",\\\n",
    "                                     \"almojabana\":\"Producot panadero de queso\"},\\\n",
    "                             \"suta\":{\"leche\":\"bebida de la vaca\", \"fritanga\":\"morzilla y papa\",\\\n",
    "                                     \"almojabana\":\"Producot panadero de queso\"}},\\\n",
    "              \"Valle\":{\"Cali\":{\"chontaduro\":\"jugo\", \"tamal\":\"maiz relleno de pipipan\", \"champu\":\"bebida\"},\\\n",
    "                      \"tulua\":{\"chontaduro\":\"jugo\", \"tamal\":\"maiz relleno de pipipan\", \"champu\":\"bebida\"},\\\n",
    "                      \"buenaventura\":{\"arrechon\":\"bebida afrodisiaca\", \"arroz con coco\":\"arroz con base de coco y pescado\",\\\n",
    "                                     \"pescado del dia\":\"pescado de la pesca mañanera\"}}}"
   ]
  },
  {
   "cell_type": "code",
   "execution_count": null,
   "metadata": {},
   "outputs": [],
   "source": []
  }
 ],
 "metadata": {
  "kernelspec": {
   "display_name": "Python 3",
   "language": "python",
   "name": "python3"
  },
  "language_info": {
   "codemirror_mode": {
    "name": "ipython",
    "version": 3
   },
   "file_extension": ".py",
   "mimetype": "text/x-python",
   "name": "python",
   "nbconvert_exporter": "python",
   "pygments_lexer": "ipython3",
   "version": "3.7.6"
  }
 },
 "nbformat": 4,
 "nbformat_minor": 4
}
